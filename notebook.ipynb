{
 "cells": [
  {
   "cell_type": "code",
   "execution_count": null,
   "metadata": {},
   "outputs": [],
   "source": [
    "# Clone repository, install dependencies and enter the app directory if\n",
    "# in a remote environment like Google Colab (uncomment and run the following lines)\n",
    "\n",
    "# Unfortunatelly, Google Colab does not support a headful browser mode for scraping\n",
    "# and LinkedIn seems to always prompt for a security validation that requires a UI\n",
    "# when using a headless browser with Colab.\n",
    "\n",
    "# !git clone https://github.com/kinosal/linkedin-analytics.git\n",
    "# !pip install requests selenium bs4 webdriver-manager lxml\n",
    "# !apt install chromium-chromedriver\n",
    "# %cd linkedin-analytics/"
   ]
  },
  {
   "cell_type": "code",
   "execution_count": null,
   "metadata": {},
   "outputs": [],
   "source": [
    "# Import libraries\n",
    "import csv\n",
    "import os\n",
    "\n",
    "# Import script\n",
    "import scrape as scr"
   ]
  },
  {
   "cell_type": "code",
   "execution_count": null,
   "metadata": {},
   "outputs": [],
   "source": [
    "# Specify variables\n",
    "loginname = None  # If not sourced you can specify your LinkedIn login name here\n",
    "password = None  # If not sourced you can specify your LinkedIn password here\n",
    "user = \"nikolasschriefer\"  # Specify the LinkedIn user whose posts you want to scrape\n",
    "since = \"2022-01-01\"\n",
    "reactors = False"
   ]
  },
  {
   "cell_type": "code",
   "execution_count": null,
   "metadata": {},
   "outputs": [],
   "source": [
    "# Run script\n",
    "linkedin = scr.LinkedInBrowser(headless=True)\n",
    "linkedin.login(loginname, password)\n",
    "post_analytics = linkedin.get_post_analytics(user, since, reactors)\n",
    "# post_analytics = linkedin.add_post_hashtags(post_analytics)  # Optional"
   ]
  },
  {
   "cell_type": "code",
   "execution_count": null,
   "metadata": {},
   "outputs": [],
   "source": [
    "# Save result to CSV\n",
    "with open(f\"{user}_posts.csv\", \"w\") as f:\n",
    "    writer = csv.DictWriter(f, fieldnames=post_analytics[0].keys())\n",
    "    writer.writeheader()\n",
    "    writer.writerows(post_analytics)"
   ]
  },
  {
   "cell_type": "code",
   "execution_count": null,
   "metadata": {},
   "outputs": [],
   "source": [
    "# Get top reactors (optional)\n",
    "top_reactors = linkedin.top_n(post_analytics, \"reactors\", n=10)\n",
    "print(f\"Top reactors: {top_reactors}\")       "
   ]
  },
  {
   "cell_type": "code",
   "execution_count": null,
   "metadata": {},
   "outputs": [],
   "source": [
    "# Get top hashtags (optional)\n",
    "top_hashtags = linkedin.top_n(post_analytics, \"hashtags\", n=10)\n",
    "print(f\"Top hashtags: {top_hashtags}\")"
   ]
  }
 ],
 "metadata": {
  "kernelspec": {
   "display_name": ".venv",
   "language": "python",
   "name": "python3"
  },
  "language_info": {
   "codemirror_mode": {
    "name": "ipython",
    "version": 3
   },
   "file_extension": ".py",
   "mimetype": "text/x-python",
   "name": "python",
   "nbconvert_exporter": "python",
   "pygments_lexer": "ipython3",
   "version": "3.10.9 (main, Dec 14 2022, 15:43:40) [Clang 14.0.0 (clang-1400.0.29.202)]"
  },
  "orig_nbformat": 4,
  "vscode": {
   "interpreter": {
    "hash": "1f9e6690b8542d513b74a9b07718311a244f84d220481a338cf31d9ecd4c3b08"
   }
  }
 },
 "nbformat": 4,
 "nbformat_minor": 2
}
