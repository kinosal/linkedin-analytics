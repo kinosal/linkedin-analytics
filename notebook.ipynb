{
 "cells": [
  {
   "cell_type": "code",
   "execution_count": null,
   "metadata": {},
   "outputs": [],
   "source": [
    "# Import libraries\n",
    "import csv\n",
    "import os\n",
    "\n",
    "# Import script\n",
    "import scrape as scr"
   ]
  },
  {
   "cell_type": "code",
   "execution_count": null,
   "metadata": {},
   "outputs": [],
   "source": [
    "# Specify variables\n",
    "loginname = os.getenv(\"LOGINNAME\")  # If not sourced you can specify your LinkedIn login name here\n",
    "password = os.getenv(\"PASSWORD\")  # If not sourced you can specify your LinkedIn password here\n",
    "user = \"linkedin_user\"  # Specify the LinkedIn user whose posts you want to scrape\n",
    "since = \"2022-01-01\"\n",
    "reactors = True\n",
    "headless = False"
   ]
  },
  {
   "cell_type": "code",
   "execution_count": null,
   "metadata": {},
   "outputs": [],
   "source": [
    "# Run scripts\n",
    "linkedin = scr.LinkedInBrowser(headless)\n",
    "linkedin.login()\n",
    "post_analytics = linkedin.get_post_analytics(\n",
    "    user, since, reactors\n",
    ")\n",
    "post_analytics = linkedin.add_post_hashtags(post_analytics)"
   ]
  },
  {
   "cell_type": "code",
   "execution_count": null,
   "metadata": {},
   "outputs": [],
   "source": [
    "# Save results to CSV\n",
    "with open(f\"{user}_posts.csv\", \"w\") as f:\n",
    "    writer = csv.DictWriter(f, fieldnames=post_analytics[0].keys())\n",
    "    writer.writeheader()\n",
    "    writer.writerows(post_analytics)"
   ]
  },
  {
   "cell_type": "code",
   "execution_count": null,
   "metadata": {},
   "outputs": [],
   "source": [
    "# Get top reactors\n",
    "top_reactors = linkedin.top_n(post_analytics, \"reactors\", n=10)\n",
    "print(f\"Top reactors: {top_reactors}\")       "
   ]
  },
  {
   "cell_type": "code",
   "execution_count": null,
   "metadata": {},
   "outputs": [],
   "source": [
    "# Get top hashtags\n",
    "top_hashtags = linkedin.top_n(post_analytics, \"hashtags\", n=10)\n",
    "print(f\"Top hashtags: {top_hashtags}\")"
   ]
  }
 ],
 "metadata": {
  "kernelspec": {
   "display_name": ".venv",
   "language": "python",
   "name": "python3"
  },
  "language_info": {
   "codemirror_mode": {
    "name": "ipython",
    "version": 3
   },
   "file_extension": ".py",
   "mimetype": "text/x-python",
   "name": "python",
   "nbconvert_exporter": "python",
   "pygments_lexer": "ipython3",
   "version": "3.10.9"
  },
  "orig_nbformat": 4,
  "vscode": {
   "interpreter": {
    "hash": "1f9e6690b8542d513b74a9b07718311a244f84d220481a338cf31d9ecd4c3b08"
   }
  }
 },
 "nbformat": 4,
 "nbformat_minor": 2
}
